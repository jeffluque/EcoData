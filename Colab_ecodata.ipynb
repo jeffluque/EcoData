{
  "nbformat": 4,
  "nbformat_minor": 0,
  "metadata": {
    "colab": {
      "name": "Colab_ecodata.ipynb",
      "provenance": [],
      "collapsed_sections": []
    },
    "kernelspec": {
      "name": "python3",
      "display_name": "Python 3"
    },
    "language_info": {
      "name": "python"
    }
  },
  "cells": [
    {
      "cell_type": "markdown",
      "source": [
        ""
      ],
      "metadata": {
        "id": "EF_otHb69YhQ"
      }
    },
    {
      "cell_type": "markdown",
      "source": [
        "<h2>Introducción</h2>\n",
        "\n",
        "<div> \n",
        "<p>Durante las últimas décadas se ha podido observar una creciente preocupación a nivel mundial respecto a la forma en la cual los países consumen y producen su energía. Esta **preocupación** nace gracias a la estrecha relación que existe entre las diversas maneras de obtener este recurso y el impacto que tienen en el medio ambiente. Es por ello por lo cual se crearon las matrices energéticas, ya que permiten analizar y comprender la forma en la cual se distribuyen las diferentes formas de energía utilizada por una región.</p>\n",
        "\n",
        "<p>Una matriz energética es el conjunto de fuentes de obtención primaria de la energía que se utiliza en el día a día en una región geográfica y en un tiempo determinados. Estas matrices no solo se limitan a enumerar las fuentes empleadas, ya que estas expresan cuanta energía aporta cada una de estas fuentes porcentualmente. Incluso, en muchas ocasiones se hace la distinción respecto a si el origen de la energía es renovable o no.</p>\n",
        "\n",
        "<p>En este último punto se encuentra la importancia de las matrices energéticas. Se ha comprobado que la huella ecológica que genera un país en la mayoría de las ocasiones es directamente proporcional al porcentaje de energía proveniente de fuentes no renovables que usa. Por lo cual, el poder determinar la proporción entre las diferentes fuentes de energía provee información importante para saber cuáles de estas son las que podrían estar generando un mayor daño ambiental. </p>\n",
        "\n",
        "<p>Para determinar la matriz energética se recolectan todos los datos correspondientes a la generación de energía a partir de fuentes primarias en un contexto predeterminado, después de esto, se clasifica cada uno de los datos obtenidos para determinar a cuál fuente primaria corresponden. En función de lo anterior, se realiza la suma del total de energía obtenida y se determina a cuál proporción del total corresponden cada una de las fuentes.</p>\n",
        "\n",
        "<p>Para recolectar los datos necesarios para determinar una matriz energética se necesita un monitoreo constante y consistente de la cantidad de energía que produce cada una de las fuentes primarias. Debido a esto a la hora de trabajar en este tema se utilizan un gran volumen de datos, con unas complejidades elevadas. </p>\n",
        "\n",
        "<p>Implementar la ciencia de datos en los procesos que conlleva la determinación y el análisis de las matrices energéticas de diferentes regiones le pueden traer un gran beneficio a la sociedad. Ya que, en un principio, permite que se efectúe una mejor recolección de los datos necesarios para determinar estas matrices, posteriormente permite un análisis más exhaustivo de la información recolectada, y por último, hace que la información y los datos sean más accesibles, de tal manera que todos los actores de la sociedad puedan tomar decisiones con información más precisa y fundamentada. </p>\n",
        "<p>Es por ello que la presente investigación pretende darle un acercamiento analítico a la matriz energética de Costa Rica en el periodo comprendido entre 2010 y 2018, y compararla con la de otras latitudes del mundo. Para este fin, se utilizarán una serie de herramientas tecnológicas, como lo son el lenguaje de programación Python y la plataforma Snowflake </p>\n",
        "</div>"
      ],
      "metadata": {
        "id": "W1EC3zWFABTt"
      }
    },
    {
      "cell_type": "markdown",
      "source": [
        "<h2>Desarrollo</h2>\n",
        "<p>Con el fin de comparar la matriz energetica de Costa Rica con otras regiones del mundo primero se debe tener una basta comprension de esta, por lo cual, la siguiente seccion del presente proyecto ahondara en la forma en la cual esta se distribuye y el comporamiento que ha tenido a lo largo de los años.</p>"
      ],
      "metadata": {
        "id": "1KEVg7p4Sst_"
      }
    },
    {
      "cell_type": "code",
      "source": [
        "! pip install snowflake-connector-python\n",
        "! pip install pandas\n",
        "! pip install matplotlib\n",
        "# Se instalan las librerias necesarias"
      ],
      "metadata": {
        "id": "bLNxkBpYTMAk",
        "colab": {
          "base_uri": "https://localhost:8080/"
        },
        "outputId": "e1f22b17-0434-43da-d557-439aa050d180"
      },
      "execution_count": 98,
      "outputs": [
        {
          "output_type": "stream",
          "name": "stdout",
          "text": [
            "Requirement already satisfied: snowflake-connector-python in /usr/local/lib/python3.7/dist-packages (2.7.6)\n",
            "Requirement already satisfied: pyOpenSSL<22.0.0,>=16.2.0 in /usr/local/lib/python3.7/dist-packages (from snowflake-connector-python) (21.0.0)\n",
            "Requirement already satisfied: cffi<2.0.0,>=1.9 in /usr/local/lib/python3.7/dist-packages (from snowflake-connector-python) (1.15.0)\n",
            "Requirement already satisfied: idna<4,>=2.5 in /usr/local/lib/python3.7/dist-packages (from snowflake-connector-python) (2.10)\n",
            "Requirement already satisfied: pytz in /usr/local/lib/python3.7/dist-packages (from snowflake-connector-python) (2018.9)\n",
            "Requirement already satisfied: pyjwt<3.0.0 in /usr/local/lib/python3.7/dist-packages (from snowflake-connector-python) (2.3.0)\n",
            "Requirement already satisfied: certifi>=2017.4.17 in /usr/local/lib/python3.7/dist-packages (from snowflake-connector-python) (2021.10.8)\n",
            "Requirement already satisfied: asn1crypto<2.0.0,>0.24.0 in /usr/local/lib/python3.7/dist-packages (from snowflake-connector-python) (1.5.1)\n",
            "Requirement already satisfied: oscrypto<2.0.0 in /usr/local/lib/python3.7/dist-packages (from snowflake-connector-python) (1.3.0)\n",
            "Requirement already satisfied: requests<3.0.0 in /usr/local/lib/python3.7/dist-packages (from snowflake-connector-python) (2.23.0)\n",
            "Requirement already satisfied: setuptools>34.0.0 in /usr/local/lib/python3.7/dist-packages (from snowflake-connector-python) (57.4.0)\n",
            "Requirement already satisfied: cryptography<37.0.0,>=3.1.0 in /usr/local/lib/python3.7/dist-packages (from snowflake-connector-python) (36.0.2)\n",
            "Requirement already satisfied: pycryptodomex!=3.5.0,<4.0.0,>=3.2 in /usr/local/lib/python3.7/dist-packages (from snowflake-connector-python) (3.14.1)\n",
            "Requirement already satisfied: charset-normalizer~=2.0.0 in /usr/local/lib/python3.7/dist-packages (from snowflake-connector-python) (2.0.12)\n",
            "Requirement already satisfied: pycparser in /usr/local/lib/python3.7/dist-packages (from cffi<2.0.0,>=1.9->snowflake-connector-python) (2.21)\n",
            "Requirement already satisfied: six>=1.5.2 in /usr/local/lib/python3.7/dist-packages (from pyOpenSSL<22.0.0,>=16.2.0->snowflake-connector-python) (1.15.0)\n",
            "Requirement already satisfied: urllib3!=1.25.0,!=1.25.1,<1.26,>=1.21.1 in /usr/local/lib/python3.7/dist-packages (from requests<3.0.0->snowflake-connector-python) (1.24.3)\n",
            "Requirement already satisfied: chardet<4,>=3.0.2 in /usr/local/lib/python3.7/dist-packages (from requests<3.0.0->snowflake-connector-python) (3.0.4)\n",
            "Requirement already satisfied: pandas in /usr/local/lib/python3.7/dist-packages (1.3.5)\n",
            "Requirement already satisfied: pytz>=2017.3 in /usr/local/lib/python3.7/dist-packages (from pandas) (2018.9)\n",
            "Requirement already satisfied: python-dateutil>=2.7.3 in /usr/local/lib/python3.7/dist-packages (from pandas) (2.8.2)\n",
            "Requirement already satisfied: numpy>=1.17.3 in /usr/local/lib/python3.7/dist-packages (from pandas) (1.21.5)\n",
            "Requirement already satisfied: six>=1.5 in /usr/local/lib/python3.7/dist-packages (from python-dateutil>=2.7.3->pandas) (1.15.0)\n",
            "Requirement already satisfied: matplotlib in /usr/local/lib/python3.7/dist-packages (3.2.2)\n",
            "Requirement already satisfied: cycler>=0.10 in /usr/local/lib/python3.7/dist-packages (from matplotlib) (0.11.0)\n",
            "Requirement already satisfied: python-dateutil>=2.1 in /usr/local/lib/python3.7/dist-packages (from matplotlib) (2.8.2)\n",
            "Requirement already satisfied: kiwisolver>=1.0.1 in /usr/local/lib/python3.7/dist-packages (from matplotlib) (1.4.0)\n",
            "Requirement already satisfied: pyparsing!=2.0.4,!=2.1.2,!=2.1.6,>=2.0.1 in /usr/local/lib/python3.7/dist-packages (from matplotlib) (3.0.7)\n",
            "Requirement already satisfied: numpy>=1.11 in /usr/local/lib/python3.7/dist-packages (from matplotlib) (1.21.5)\n",
            "Requirement already satisfied: typing-extensions in /usr/local/lib/python3.7/dist-packages (from kiwisolver>=1.0.1->matplotlib) (3.10.0.2)\n",
            "Requirement already satisfied: six>=1.5 in /usr/local/lib/python3.7/dist-packages (from python-dateutil>=2.1->matplotlib) (1.15.0)\n"
          ]
        }
      ]
    },
    {
      "cell_type": "markdown",
      "source": [
        "<p>En primera instancia se analizará la composición y los cambios que ha tenido la producción energética de Costa Rica a lo largo de los años. Para lo cual, se pondrá a disposición los datos suministrados por la Secretaria Planificación Subsector energía del Ministerio del Ambiente y Energía, alojados en una base de datos de Snowflake.</p>"
      ],
      "metadata": {
        "id": "xC4oJGTIU0h5"
      }
    },
    {
      "cell_type": "code",
      "source": [
        "import snowflake.connector\n",
        "import pandas as pd\n",
        "import matplotlib as mp\n",
        "import matplotlib.pyplot as plt\n",
        "import numpy as np\n",
        "# Se importan los modulos a utilizar"
      ],
      "metadata": {
        "id": "aFsH47ZKTTnn"
      },
      "execution_count": 99,
      "outputs": []
    },
    {
      "cell_type": "code",
      "source": [
        "conn = snowflake.connector.Connect(user=\"EcoData\", password=\"EcoData1234\", account=\"ne14697.us-east-2.aws\") \n",
        "# Se crea una conexion a la base de datos y se guarda en una variable"
      ],
      "metadata": {
        "id": "ZzHtRHjOTtPv"
      },
      "execution_count": 100,
      "outputs": []
    },
    {
      "cell_type": "code",
      "source": [
        "sql_query = \"SELECT * FROM HACKATHON_ENERGY_DATA.HACKATHON_ENERGY_DATA.CR_BALANCE_NACIONAL_DE_ENERGA_2012_2018_CONSUMO_FINAL\"\n",
        "df_CONSUMO_FINAL= pd.read_sql(sql_query,conn)\n",
        "\n",
        "sql_query = \"SELECT * FROM HACKATHON_ENERGY_DATA.HACKATHON_ENERGY_DATA.CR_BALANCE_NACIONAL_DE_ENERGA_2012_2018_CONSUMO_FINAL_POR_SECTOR\"\n",
        "df__CONSUMO_FINAL_POR_SECTOR= pd.read_sql(sql_query,conn)\n",
        "\n",
        "sql_query = \"SELECT * FROM HACKATHON_ENERGY_DATA.HACKATHON_ENERGY_DATA.CR_BALANCE_NACIONAL_DE_ENERGA_2012_2018_GENERACION_POR_TIPO_FUENTE\"\n",
        "df_GENERACION_POR_TIPO_FUENTE= pd.read_sql(sql_query,conn)\n",
        "\n",
        "sql_query = \"SELECT * FROM HACKATHON_ENERGY_DATA.HACKATHON_ENERGY_DATA.CR_BALANCE_NACIONAL_DE_ENERGA_2012_2018_INDUSTRIA\"\n",
        "df_INDUSTRIA= pd.read_sql(sql_query,conn)\n",
        "\n",
        "sql_query = \"SELECT * FROM HACKATHON_ENERGY_DATA.HACKATHON_ENERGY_DATA.CR_BALANCE_NACIONAL_DE_ENERGA_2012_2018_RESIDENCIAL\"\n",
        "df_RESIDENCIAL= pd.read_sql(sql_query,conn)\n",
        "\n",
        "sql_query = \"SELECT * FROM HACKATHON_ENERGY_DATA.HACKATHON_ENERGY_DATA.CR_BALANCE_NACIONAL_DE_ENERGA_2012_2018_TRANSPORTE\"\n",
        "df_TRANSPORTE= pd.read_sql(sql_query,conn)\n",
        "\n",
        "sql_query = \"SELECT * FROM  HACKATHON_ENERGY_DATA.HACKATHON_ENERGY_DATA.EIA_ENERGY_INFORMATION_ADMINISTRATION_PRIMARY_ENERGY_TOTAL_ENERGY_CONSUMPTION\"\n",
        "df_TOTAL_ENERGY_CONSUMPTION = pd.read_sql(sql_query,conn)\n",
        "sql_query = \"SELECT * FROM  HACKATHON_ENERGY_DATA.HACKATHON_ENERGY_DATA.EIA_ENERGY_INFORMATION_ADMINISTRATION_PRIMARY_ENERGY_TOTAL_ENERGY_PRODUCTION\"\n",
        "df_TOTAL_ENERGY_PRODUCTION = pd.read_sql(sql_query,conn)"
      ],
      "metadata": {
        "id": "dbUYZsVBXaTt"
      },
      "execution_count": 101,
      "outputs": []
    },
    {
      "cell_type": "markdown",
      "source": [
        "A continuación se crea los métodos necesarios para la elaboración de las gráficas y así visualizar los datos que prviamente fueron alojados, limpiados y ordenados en SnowFlake.\n",
        "\n",
        "Como primera visaulización se usará la información encontrada en la generación de Energia eléctrica a través de distintas fuentes."
      ],
      "metadata": {
        "id": "_C6Of04s4ric"
      }
    },
    {
      "cell_type": "code",
      "source": [
        "df_GENERACION_POR_TIPO_FUENTE = df_GENERACION_POR_TIPO_FUENTE[df_GENERACION_POR_TIPO_FUENTE['Ano']!='Total']\n",
        "\n",
        "fig, ax = plt.subplots(1, figsize=(16, 8))\n",
        "\n",
        "plt.bar(df_GENERACION_POR_TIPO_FUENTE.index, df_GENERACION_POR_TIPO_FUENTE['Hidro'], color = '#48868D', width =0.5)\n",
        "plt.bar(df_GENERACION_POR_TIPO_FUENTE.index, df_GENERACION_POR_TIPO_FUENTE['Geotermica'], bottom = df_GENERACION_POR_TIPO_FUENTE['Hidro'], color = '#7C9247', width =0.5)\n",
        "\n",
        "plt.bar(df_GENERACION_POR_TIPO_FUENTE.index, df_GENERACION_POR_TIPO_FUENTE['Eolica'], color = '#B2B56B', width =0.5)\n",
        "plt.bar(df_GENERACION_POR_TIPO_FUENTE.index, df_GENERACION_POR_TIPO_FUENTE['Biomasa'], bottom = df_GENERACION_POR_TIPO_FUENTE['Eolica'], color = '#93AE7A', width =0.5)# x and y limits\n",
        "\n",
        "plt.bar(df_GENERACION_POR_TIPO_FUENTE.index, df_GENERACION_POR_TIPO_FUENTE['Solar'], color = '#F0E7AD', width =0.5)\n",
        "plt.bar(df_GENERACION_POR_TIPO_FUENTE.index, df_GENERACION_POR_TIPO_FUENTE['Termica'], bottom = df_GENERACION_POR_TIPO_FUENTE['Solar'], color = '#394233', width =0.5)# x and y limits\n",
        "\n",
        "ax.spines['right'].set_visible(False)\n",
        "ax.spines['left'].set_visible(False)\n",
        "ax.spines['top'].set_visible(False)\n",
        "ax.spines['bottom'].set_visible(False)#grid\n",
        "ax.set_axisbelow(True)\n",
        "ax.yaxis.grid(color='gray', linestyle='dashed', alpha=0.7)\n",
        "plt.xticks(df_GENERACION_POR_TIPO_FUENTE.index , labels = df_GENERACION_POR_TIPO_FUENTE['Ano'])\n",
        "legend_label = ['Hidro', 'Geotérmica', 'Eólica', 'Biomasa', 'Solar', 'Térmica']\n",
        "plt.legend(legend_label, ncol = 4, bbox_to_anchor=([1, 1.05, 0, 0]), frameon = False)\n",
        "plt.title('Generación eléctrica por tipo de fuente, Costa Rica 2010-2019', loc='left')\n",
        "plt.xlabel('Año')\n",
        "plt.ylabel('Terajulios')\n",
        "plt.show()"
      ],
      "metadata": {
        "colab": {
          "base_uri": "https://localhost:8080/",
          "height": 514
        },
        "id": "MyYyKMPXlGab",
        "outputId": "91f3ef22-8b0d-4566-9a97-568860cd9b72"
      },
      "execution_count": 102,
      "outputs": [
        {
          "output_type": "display_data",
          "data": {
            "text/plain": [
              "<Figure size 1152x576 with 1 Axes>"
            ],
            "image/png": "[encoded data removed]"
          },
          "metadata": {
            "needs_background": "light"
          }
        }
      ]
    },
    {
      "cell_type": "markdown",
      "source": [
        "Según los valores visto en esta primera tabla de la base de datos se aprecia que la producción está dada por la generación de energía eléctrica a través de la fuente hidroeléctrica, pero a su vez la producción denergía con la fuente eólica viene aumentando año tras año."
      ],
      "metadata": {
        "id": "NXgD1OuUNayc"
      }
    },
    {
      "cell_type": "code",
      "source": [
        "df_GENERACION_POR_TIPO_FUENTE"
      ],
      "metadata": {
        "colab": {
          "base_uri": "https://localhost:8080/",
          "height": 363
        },
        "id": "XFqVgAR4_fcC",
        "outputId": "093b85ee-2764-4a3f-f155-42b683bcd49e"
      },
      "execution_count": 103,
      "outputs": [
        {
          "output_type": "execute_result",
          "data": {
            "text/plain": [
              "    Ano     Hidro  Geotermica   Eolica  Biomasa   Solar  Termica     Total\n",
              "0  2010  26144.25     4233.89  1291.23   521.41    0.93  2308.23  34499.95\n",
              "1  2011  25684.64     4606.35  1492.11   500.37    1.73  3108.03  35393.24\n",
              "2  2012  26039.52     5049.18  1902.18   643.04    4.67  2989.02  36627.60\n",
              "3  2013  24663.76     5460.25  1744.45   659.94    8.80  4305.59  36842.78\n",
              "4  2014  24181.75     5537.29  2645.11   650.24    8.88  3755.53  36778.79\n",
              "5  2015  29039.71     4952.26  3886.23   645.38    9.12   389.23  38921.94\n",
              "6  2016  28893.40     4822.25  4130.25   617.42    8.69   694.89  39166.91\n",
              "7  2017  31237.06     4024.20  4635.64   664.24   16.03   134.70  40711.86\n",
              "8  2018  30034.43     3486.85  6475.95   625.19  201.76   570.78  41394.96\n",
              "9  2019  28175.98     5445.27  6466.84   608.57  215.35   344.29  41256.29"
            ],
            "text/html": [
              "\n",
              "  <div id=\"df-534784a1-e890-4345-9a33-3c7297f255a6\">\n",
              "    <div class=\"colab-df-container\">\n",
              "      <div>\n",
              "<style scoped>\n",
              "    .dataframe tbody tr th:only-of-type {\n",
              "        vertical-align: middle;\n",
              "    }\n",
              "\n",
              "    .dataframe tbody tr th {\n",
              "        vertical-align: top;\n",
              "    }\n",
              "\n",
              "    .dataframe thead th {\n",
              "        text-align: right;\n",
              "    }\n",
              "</style>\n",
              "<table border=\"1\" class=\"dataframe\">\n",
              "  <thead>\n",
              "    <tr style=\"text-align: right;\">\n",
              "      <th></th>\n",
              "      <th>Ano</th>\n",
              "      <th>Hidro</th>\n",
              "      <th>Geotermica</th>\n",
              "      <th>Eolica</th>\n",
              "      <th>Biomasa</th>\n",
              "      <th>Solar</th>\n",
              "      <th>Termica</th>\n",
              "      <th>Total</th>\n",
              "    </tr>\n",
              "  </thead>\n",
              "  <tbody>\n",
              "    <tr>\n",
              "      <th>0</th>\n",
              "      <td>2010</td>\n",
              "      <td>26144.25</td>\n",
              "      <td>4233.89</td>\n",
              "      <td>1291.23</td>\n",
              "      <td>521.41</td>\n",
              "      <td>0.93</td>\n",
              "      <td>2308.23</td>\n",
              "      <td>34499.95</td>\n",
              "    </tr>\n",
              "    <tr>\n",
              "      <th>1</th>\n",
              "      <td>2011</td>\n",
              "      <td>25684.64</td>\n",
              "      <td>4606.35</td>\n",
              "      <td>1492.11</td>\n",
              "      <td>500.37</td>\n",
              "      <td>1.73</td>\n",
              "      <td>3108.03</td>\n",
              "      <td>35393.24</td>\n",
              "    </tr>\n",
              "    <tr>\n",
              "      <th>2</th>\n",
              "      <td>2012</td>\n",
              "      <td>26039.52</td>\n",
              "      <td>5049.18</td>\n",
              "      <td>1902.18</td>\n",
              "      <td>643.04</td>\n",
              "      <td>4.67</td>\n",
              "      <td>2989.02</td>\n",
              "      <td>36627.60</td>\n",
              "    </tr>\n",
              "    <tr>\n",
              "      <th>3</th>\n",
              "      <td>2013</td>\n",
              "      <td>24663.76</td>\n",
              "      <td>5460.25</td>\n",
              "      <td>1744.45</td>\n",
              "      <td>659.94</td>\n",
              "      <td>8.80</td>\n",
              "      <td>4305.59</td>\n",
              "      <td>36842.78</td>\n",
              "    </tr>\n",
              "    <tr>\n",
              "      <th>4</th>\n",
              "      <td>2014</td>\n",
              "      <td>24181.75</td>\n",
              "      <td>5537.29</td>\n",
              "      <td>2645.11</td>\n",
              "      <td>650.24</td>\n",
              "      <td>8.88</td>\n",
              "      <td>3755.53</td>\n",
              "      <td>36778.79</td>\n",
              "    </tr>\n",
              "    <tr>\n",
              "      <th>5</th>\n",
              "      <td>2015</td>\n",
              "      <td>29039.71</td>\n",
              "      <td>4952.26</td>\n",
              "      <td>3886.23</td>\n",
              "      <td>645.38</td>\n",
              "      <td>9.12</td>\n",
              "      <td>389.23</td>\n",
              "      <td>38921.94</td>\n",
              "    </tr>\n",
              "    <tr>\n",
              "      <th>6</th>\n",
              "      <td>2016</td>\n",
              "      <td>28893.40</td>\n",
              "      <td>4822.25</td>\n",
              "      <td>4130.25</td>\n",
              "      <td>617.42</td>\n",
              "      <td>8.69</td>\n",
              "      <td>694.89</td>\n",
              "      <td>39166.91</td>\n",
              "    </tr>\n",
              "    <tr>\n",
              "      <th>7</th>\n",
              "      <td>2017</td>\n",
              "      <td>31237.06</td>\n",
              "      <td>4024.20</td>\n",
              "      <td>4635.64</td>\n",
              "      <td>664.24</td>\n",
              "      <td>16.03</td>\n",
              "      <td>134.70</td>\n",
              "      <td>40711.86</td>\n",
              "    </tr>\n",
              "    <tr>\n",
              "      <th>8</th>\n",
              "      <td>2018</td>\n",
              "      <td>30034.43</td>\n",
              "      <td>3486.85</td>\n",
              "      <td>6475.95</td>\n",
              "      <td>625.19</td>\n",
              "      <td>201.76</td>\n",
              "      <td>570.78</td>\n",
              "      <td>41394.96</td>\n",
              "    </tr>\n",
              "    <tr>\n",
              "      <th>9</th>\n",
              "      <td>2019</td>\n",
              "      <td>28175.98</td>\n",
              "      <td>5445.27</td>\n",
              "      <td>6466.84</td>\n",
              "      <td>608.57</td>\n",
              "      <td>215.35</td>\n",
              "      <td>344.29</td>\n",
              "      <td>41256.29</td>\n",
              "    </tr>\n",
              "  </tbody>\n",
              "</table>\n",
              "</div>\n",
              "      <button class=\"colab-df-convert\" onclick=\"convertToInteractive('df-534784a1-e890-4345-9a33-3c7297f255a6')\"\n",
              "              title=\"Convert this dataframe to an interactive table.\"\n",
              "              style=\"display:none;\">\n",
              "        \n",
              "  <svg xmlns=\"http://www.w3.org/2000/svg\" height=\"24px\"viewBox=\"0 0 24 24\"\n",
              "       width=\"24px\">\n",
              "    <path d=\"M0 0h24v24H0V0z\" fill=\"none\"/>\n",
              "    <path d=\"M18.56 5.44l.94 2.06.94-2.06 2.06-.94-2.06-.94-.94-2.06-.94 2.06-2.06.94zm-11 1L8.5 8.5l.94-2.06 2.06-.94-2.06-.94L8.5 2.5l-.94 2.06-2.06.94zm10 10l.94 2.06.94-2.06 2.06-.94-2.06-.94-.94-2.06-.94 2.06-2.06.94z\"/><path d=\"M17.41 7.96l-1.37-1.37c-.4-.4-.92-.59-1.43-.59-.52 0-1.04.2-1.43.59L10.3 9.45l-7.72 7.72c-.78.78-.78 2.05 0 2.83L4 21.41c.39.39.9.59 1.41.59.51 0 1.02-.2 1.41-.59l7.78-7.78 2.81-2.81c.8-.78.8-2.07 0-2.86zM5.41 20L4 18.59l7.72-7.72 1.47 1.35L5.41 20z\"/>\n",
              "  </svg>\n",
              "      </button>\n",
              "      \n",
              "  <style>\n",
              "    .colab-df-container {\n",
              "      display:flex;\n",
              "      flex-wrap:wrap;\n",
              "      gap: 12px;\n",
              "    }\n",
              "\n",
              "    .colab-df-convert {\n",
              "      background-color: #E8F0FE;\n",
              "      border: none;\n",
              "      border-radius: 50%;\n",
              "      cursor: pointer;\n",
              "      display: none;\n",
              "      fill: #1967D2;\n",
              "      height: 32px;\n",
              "      padding: 0 0 0 0;\n",
              "      width: 32px;\n",
              "    }\n",
              "\n",
              "    .colab-df-convert:hover {\n",
              "      background-color: #E2EBFA;\n",
              "      box-shadow: 0px 1px 2px rgba(60, 64, 67, 0.3), 0px 1px 3px 1px rgba(60, 64, 67, 0.15);\n",
              "      fill: #174EA6;\n",
              "    }\n",
              "\n",
              "    [theme=dark] .colab-df-convert {\n",
              "      background-color: #3B4455;\n",
              "      fill: #D2E3FC;\n",
              "    }\n",
              "\n",
              "    [theme=dark] .colab-df-convert:hover {\n",
              "      background-color: #434B5C;\n",
              "      box-shadow: 0px 1px 3px 1px rgba(0, 0, 0, 0.15);\n",
              "      filter: drop-shadow(0px 1px 2px rgba(0, 0, 0, 0.3));\n",
              "      fill: #FFFFFF;\n",
              "    }\n",
              "  </style>\n",
              "\n",
              "      <script>\n",
              "        const buttonEl =\n",
              "          document.querySelector('#df-534784a1-e890-4345-9a33-3c7297f255a6 button.colab-df-convert');\n",
              "        buttonEl.style.display =\n",
              "          google.colab.kernel.accessAllowed ? 'block' : 'none';\n",
              "\n",
              "        async function convertToInteractive(key) {\n",
              "          const element = document.querySelector('#df-534784a1-e890-4345-9a33-3c7297f255a6');\n",
              "          const dataTable =\n",
              "            await google.colab.kernel.invokeFunction('convertToInteractive',\n",
              "                                                     [key], {});\n",
              "          if (!dataTable) return;\n",
              "\n",
              "          const docLinkHtml = 'Like what you see? Visit the ' +\n",
              "            '<a target=\"_blank\" href=https://colab.research.google.com/notebooks/data_table.ipynb>data table notebook</a>'\n",
              "            + ' to learn more about interactive tables.';\n",
              "          element.innerHTML = '';\n",
              "          dataTable['output_type'] = 'display_data';\n",
              "          await google.colab.output.renderOutput(dataTable, element);\n",
              "          const docLink = document.createElement('div');\n",
              "          docLink.innerHTML = docLinkHtml;\n",
              "          element.appendChild(docLink);\n",
              "        }\n",
              "      </script>\n",
              "    </div>\n",
              "  </div>\n",
              "  "
            ]
          },
          "metadata": {},
          "execution_count": 103
        }
      ]
    },
    {
      "cell_type": "code",
      "source": [
        "df__CONSUMO_FINAL_POR_SECTOR = df__CONSUMO_FINAL_POR_SECTOR[df__CONSUMO_FINAL_POR_SECTOR['ano']!='Agropecuario']\n",
        "\n",
        "fig, ax = plt.subplots(1, figsize=(16, 8))\n",
        "\n",
        "plt.bar(df__CONSUMO_FINAL_POR_SECTOR.index, df__CONSUMO_FINAL_POR_SECTOR['Residencial'], color = '#48868D', width =0.5)\n",
        "plt.bar(df__CONSUMO_FINAL_POR_SECTOR.index, df__CONSUMO_FINAL_POR_SECTOR['Servicios'], bottom = df__CONSUMO_FINAL_POR_SECTOR['Residencial'], color = '#7C9247', width =0.5)\n",
        "\n",
        "plt.bar(df__CONSUMO_FINAL_POR_SECTOR.index, df__CONSUMO_FINAL_POR_SECTOR['Comercial'], color = '#B2B56B', width =0.5)\n",
        "plt.bar(df__CONSUMO_FINAL_POR_SECTOR.index, df__CONSUMO_FINAL_POR_SECTOR['Publico'], bottom = df__CONSUMO_FINAL_POR_SECTOR['Comercial'], color = '#93AE7A', width =0.5)# x and y limits\n",
        "\n",
        "plt.bar(df__CONSUMO_FINAL_POR_SECTOR.index, df__CONSUMO_FINAL_POR_SECTOR['Transporte'], color = '#F0E7AD', width =0.5)\n",
        "plt.bar(df__CONSUMO_FINAL_POR_SECTOR.index, df__CONSUMO_FINAL_POR_SECTOR['Industria'], bottom = df__CONSUMO_FINAL_POR_SECTOR['Transporte'], color = '#394233', width =0.5)# x and y limits\n",
        "\n",
        "ax.spines['right'].set_visible(False)\n",
        "ax.spines['left'].set_visible(False)\n",
        "ax.spines['top'].set_visible(False)\n",
        "ax.spines['bottom'].set_visible(False)#grid\n",
        "ax.set_axisbelow(True)\n",
        "ax.yaxis.grid(color='gray', linestyle='dashed', alpha=0.7)\n",
        "plt.xticks(df__CONSUMO_FINAL_POR_SECTOR.index , labels = df__CONSUMO_FINAL_POR_SECTOR['ano'])\n",
        "legend_label = ['Residencial', 'Servicios', 'Comercial', 'Publico', 'Transporte']\n",
        "plt.legend(legend_label, ncol = 6, bbox_to_anchor=([1, 1.05, 0, 0]), frameon = False)\n",
        "plt.title('Generación eléctrica por tipo de fuente, Costa Rica 2010-2019', loc='left')\n",
        "plt.xlabel('Año')\n",
        "plt.ylabel('Terajulios')\n",
        "plt.show()"
      ],
      "metadata": {
        "colab": {
          "base_uri": "https://localhost:8080/",
          "height": 514
        },
        "id": "IuKE5wMlJmL1",
        "outputId": "d6c0cee2-3e49-40d2-b9e1-79ec87576a6f"
      },
      "execution_count": 104,
      "outputs": [
        {
          "output_type": "display_data",
          "data": {
            "text/plain": [
              "<Figure size 1152x576 with 1 Axes>"
            ],
            "image/png": "[encoded data removed]"
          },
          "metadata": {
            "needs_background": "light"
          }
        }
      ]
    },
    {
      "cell_type": "markdown",
      "source": [
        "En el gráfico anterios ahora se aprecia la contraparte, el consumo de energía a nivel pais se lo lleva el transporte, pero ¿que medios de transporte?\n",
        "\n",
        "Analizamos las otras tablas para conocer que medios de transporte consumen más. "
      ],
      "metadata": {
        "id": "G_LswTOaNy-F"
      }
    },
    {
      "cell_type": "code",
      "source": [
        "df_TRANSPORTE = df_TRANSPORTE[df_TRANSPORTE['Ano']!=' Aereo']\n",
        "\n",
        "fig, ax = plt.subplots(1, figsize=(16, 8))\n",
        "\n",
        "plt.bar(df_TRANSPORTE.index, df_TRANSPORTE['Terrestre'], color = '#48868D', width =0.5)\n",
        "plt.bar(df_TRANSPORTE.index, df_TRANSPORTE['Maritimo'], bottom = df_TRANSPORTE['Maritimo'], color = '#7C9247', width =0.5)\n",
        "\n",
        "plt.bar(df_TRANSPORTE.index, df_TRANSPORTE['Aereo'], color = '#394233', width =0.5)\n",
        "\n",
        "ax.spines['right'].set_visible(False)\n",
        "ax.spines['left'].set_visible(False)\n",
        "ax.spines['top'].set_visible(False)\n",
        "ax.spines['bottom'].set_visible(False)#grid\n",
        "ax.set_axisbelow(True)\n",
        "ax.yaxis.grid(color='gray', linestyle='dashed', alpha=0.7)\n",
        "plt.xticks(df_TRANSPORTE.index , labels = df_TRANSPORTE['Ano'])\n",
        "legend_label = ['Terrestre', 'Maritimo', 'Aereo']\n",
        "plt.legend(legend_label, ncol = 4, bbox_to_anchor=([1, 1.05, 0, 0]), frameon = False)\n",
        "plt.title('Consumo final en el área Transporte, Costa Rica 2010-2019', loc='left')\n",
        "plt.xlabel('Año')\n",
        "plt.ylabel('Terajulios')\n",
        "plt.show()"
      ],
      "metadata": {
        "colab": {
          "base_uri": "https://localhost:8080/",
          "height": 514
        },
        "id": "kLR5jJTqJtMC",
        "outputId": "f8412c2a-cf81-4cd9-c40d-f5e8267d5c36"
      },
      "execution_count": 105,
      "outputs": [
        {
          "output_type": "display_data",
          "data": {
            "text/plain": [
              "<Figure size 1152x576 with 1 Axes>"
            ],
            "image/png": "[encoded data removed]"
          },
          "metadata": {
            "needs_background": "light"
          }
        }
      ]
    },
    {
      "cell_type": "markdown",
      "source": [
        "Se observa ahora que efecitamente el consumo energético en el área de transporte es el terrestre, el cual viene creciendo año a año."
      ],
      "metadata": {
        "id": "jn74dolPOAw8"
      }
    },
    {
      "cell_type": "code",
      "source": [
        "df_TOTAL_ENERGY_CONSUMPTION = df_TOTAL_ENERGY_CONSUMPTION.head(6)\n",
        "df_TOTAL_ENERGY_CONSUMPTION = df_TOTAL_ENERGY_CONSUMPTION[['Category', '2010', '2011', '2012', '2013', '2014', '2015', '2016', '2017', '2018', '2019']]\n",
        "df_TOTAL_ENERGY_CONSUMPTION = df_TOTAL_ENERGY_CONSUMPTION.T\n",
        "\n",
        "df_TOTAL_ENERGY_CONSUMPTION.columns = df_TOTAL_ENERGY_CONSUMPTION.iloc[0] \n",
        "\n",
        "df_TOTAL_ENERGY_CONSUMPTION = df_TOTAL_ENERGY_CONSUMPTION[1:]\n",
        "\n",
        "df_TOTAL_ENERGY_CONSUMPTION = df_TOTAL_ENERGY_CONSUMPTION.reset_index()\n",
        "\n",
        "df_TOTAL_ENERGY_CONSUMPTION = df_TOTAL_ENERGY_CONSUMPTION.rename(columns={\n",
        "    'index': 'Year',\n",
        "    'Consumption (quad Btu)': 'Consumption',\n",
        "    'Coal (quad Btu)': 'Coal',\n",
        "    'Natural gas (quad Btu)': 'Natural gas',\n",
        "    'Petroleum and other liquids (quad Btu)': 'Petroleum and other liquids',\n",
        "    'Nuclear, renewables, and other (quad Btu)': 'Nuclear, renewables, and other',\n",
        "    'Nuclear (quad Btu)': 'Nuclear',})\n",
        "\n",
        "df_TOTAL_ENERGY_CONSUMPTION['Renewables, and other'] = df_TOTAL_ENERGY_CONSUMPTION['Nuclear, renewables, and other'] - df_TOTAL_ENERGY_CONSUMPTION['Nuclear']"
      ],
      "metadata": {
        "id": "tlEMuLsr_fjo"
      },
      "execution_count": 106,
      "outputs": []
    },
    {
      "cell_type": "markdown",
      "source": [
        ""
      ],
      "metadata": {
        "id": "TJ41PdNCOOKV"
      }
    },
    {
      "cell_type": "code",
      "source": [
        "fig, ax = plt.subplots(1, figsize=(16, 8))\n",
        "\n",
        "plt.bar(df_TOTAL_ENERGY_CONSUMPTION.index, df_TOTAL_ENERGY_CONSUMPTION['Coal'], color = '#48868D', width =0.5)\n",
        "plt.bar(df_TOTAL_ENERGY_CONSUMPTION.index, df_TOTAL_ENERGY_CONSUMPTION['Natural gas'], bottom = df_TOTAL_ENERGY_CONSUMPTION['Coal'], color = '#7C9247', width =0.5)\n",
        "\n",
        "plt.bar(df_TOTAL_ENERGY_CONSUMPTION.index, df_TOTAL_ENERGY_CONSUMPTION['Petroleum and other liquids'], color = '#B2B56B', width =0.5)\n",
        "plt.bar(df_TOTAL_ENERGY_CONSUMPTION.index, df_TOTAL_ENERGY_CONSUMPTION['Renewables, and other'], bottom = df_TOTAL_ENERGY_CONSUMPTION['Petroleum and other liquids'], color = '#93AE7A', width =0.5)# x and y limits\n",
        "\n",
        "plt.bar(df_TOTAL_ENERGY_CONSUMPTION.index, df_TOTAL_ENERGY_CONSUMPTION['Nuclear'], color = '#F0E7AD', width =0.5)\n",
        "\n",
        "ax.spines['right'].set_visible(False)\n",
        "ax.spines['left'].set_visible(False)\n",
        "ax.spines['top'].set_visible(False)\n",
        "ax.spines['bottom'].set_visible(False)#grid\n",
        "ax.set_axisbelow(True)\n",
        "ax.yaxis.grid(color='gray', linestyle='dashed', alpha=0.7)\n",
        "plt.xticks(df_TOTAL_ENERGY_CONSUMPTION.index , labels = df_TOTAL_ENERGY_CONSUMPTION['Year'])\n",
        "legend_label = ['Carbón', 'Gas natural', 'Petróleo y otros líquidos', 'Fuentes renovables y otros', 'Nuclear']\n",
        "plt.legend(legend_label, ncol = 4, bbox_to_anchor=([1, 1.05, 0, 0]), frameon = False)\n",
        "plt.title('Consumo de energía a nivel mundial, 2010-2019', loc='left')\n",
        "plt.xlabel('Año')\n",
        "plt.ylabel('Quads')\n",
        "plt.show()"
      ],
      "metadata": {
        "colab": {
          "base_uri": "https://localhost:8080/",
          "height": 514
        },
        "id": "_B1xGA6776fG",
        "outputId": "09be9f01-385b-44bd-dfb2-9577a233cee5"
      },
      "execution_count": 107,
      "outputs": [
        {
          "output_type": "display_data",
          "data": {
            "text/plain": [
              "<Figure size 1152x576 with 1 Axes>"
            ],
            "image/png": "[encoded data removed]"
          },
          "metadata": {
            "needs_background": "light"
          }
        }
      ]
    },
    {
      "cell_type": "markdown",
      "source": [
        ""
      ],
      "metadata": {
        "id": "1H_b4jlGOPdT"
      }
    },
    {
      "cell_type": "code",
      "source": [
        "df_TOTAL_ENERGY_PRODUCTION = df_TOTAL_ENERGY_PRODUCTION.head(6)\n",
        "df_TOTAL_ENERGY_PRODUCTION = df_TOTAL_ENERGY_PRODUCTION[['Category', '2010', '2011', '2012', '2013', '2014', '2015', '2016', '2017', '2018', '2019']]\n",
        "df_TOTAL_ENERGY_PRODUCTION = df_TOTAL_ENERGY_PRODUCTION.T\n",
        "\n",
        "df_TOTAL_ENERGY_PRODUCTION.columns = df_TOTAL_ENERGY_PRODUCTION.iloc[0] \n",
        "\n",
        "df_TOTAL_ENERGY_PRODUCTION = df_TOTAL_ENERGY_PRODUCTION[1:]\n",
        "\n",
        "df_TOTAL_ENERGY_PRODUCTION = df_TOTAL_ENERGY_PRODUCTION.reset_index()\n",
        "\n",
        "df_TOTAL_ENERGY_PRODUCTION = df_TOTAL_ENERGY_PRODUCTION.rename(columns={\n",
        "    'index': 'Year',\n",
        "    'Production (quad Btu)': 'Production',\n",
        "    'Coal (quad Btu)': 'Coal',\n",
        "    'Natural gas (quad Btu)': 'Natural gas',\n",
        "    'Petroleum and other liquids (quad Btu)': 'Petroleum and other liquids',\n",
        "    'Nuclear, renewables, and other (quad Btu)': 'Nuclear, renewables, and other',\n",
        "    'Nuclear (quad Btu)': 'Nuclear',})\n",
        "\n",
        "df_TOTAL_ENERGY_PRODUCTION['Renewables, and other'] = df_TOTAL_ENERGY_PRODUCTION['Nuclear, renewables, and other'] - df_TOTAL_ENERGY_PRODUCTION['Nuclear']\n",
        "df_TOTAL_ENERGY_PRODUCTION"
      ],
      "metadata": {
        "colab": {
          "base_uri": "https://localhost:8080/",
          "height": 363
        },
        "id": "Clx2DxmmCnYo",
        "outputId": "2f83023f-a0cb-4566-aab0-82637706fc26"
      },
      "execution_count": 108,
      "outputs": [
        {
          "output_type": "execute_result",
          "data": {
            "text/plain": [
              "Category  Year  Production        Coal Natural gas  \\\n",
              "0         2010  518.731657  156.210012  116.945679   \n",
              "1         2011  534.187873  164.666096  121.002643   \n",
              "2         2012  546.333605  169.225246  123.533191   \n",
              "3         2013  554.177553  171.897851  125.031915   \n",
              "4         2014  563.331242  171.426576  126.990053   \n",
              "5         2015  568.558292  167.602751  129.644515   \n",
              "6         2016  564.580276  157.777584  130.876105   \n",
              "7         2017  578.245254  162.088377  136.850601   \n",
              "8         2018  600.728729  168.307735  144.439144   \n",
              "9         2019  611.508969  171.840424  149.401589   \n",
              "\n",
              "Category Petroleum and other liquids Nuclear, renewables, and other  \\\n",
              "0                         171.408876                      74.167091   \n",
              "1                         173.447412                      75.071722   \n",
              "2                         178.219785                      75.355384   \n",
              "3                         177.971089                      79.276699   \n",
              "4                         182.658624                       82.25599   \n",
              "5                          187.83561                      83.475416   \n",
              "6                          188.79854                      87.128047   \n",
              "7                          188.73706                      90.569217   \n",
              "8                         193.050893                      94.930957   \n",
              "9                         192.134558                      98.132398   \n",
              "\n",
              "Category    Nuclear Renewables, and other  \n",
              "0         27.379918             46.787173  \n",
              "1         26.247553             48.824169  \n",
              "2         24.474109             50.881275  \n",
              "3         24.651921             54.624777  \n",
              "4         25.138315             57.117674  \n",
              "5         25.437528             58.037888  \n",
              "6         25.712197              61.41585  \n",
              "7         25.898281             64.670935  \n",
              "8         26.513244             68.417714  \n",
              "9         27.659891             70.472507  "
            ],
            "text/html": [
              "\n",
              "  <div id=\"df-4814081d-d5b8-493a-9668-bcd44b00c0c6\">\n",
              "    <div class=\"colab-df-container\">\n",
              "      <div>\n",
              "<style scoped>\n",
              "    .dataframe tbody tr th:only-of-type {\n",
              "        vertical-align: middle;\n",
              "    }\n",
              "\n",
              "    .dataframe tbody tr th {\n",
              "        vertical-align: top;\n",
              "    }\n",
              "\n",
              "    .dataframe thead th {\n",
              "        text-align: right;\n",
              "    }\n",
              "</style>\n",
              "<table border=\"1\" class=\"dataframe\">\n",
              "  <thead>\n",
              "    <tr style=\"text-align: right;\">\n",
              "      <th>Category</th>\n",
              "      <th>Year</th>\n",
              "      <th>Production</th>\n",
              "      <th>Coal</th>\n",
              "      <th>Natural gas</th>\n",
              "      <th>Petroleum and other liquids</th>\n",
              "      <th>Nuclear, renewables, and other</th>\n",
              "      <th>Nuclear</th>\n",
              "      <th>Renewables, and other</th>\n",
              "    </tr>\n",
              "  </thead>\n",
              "  <tbody>\n",
              "    <tr>\n",
              "      <th>0</th>\n",
              "      <td>2010</td>\n",
              "      <td>518.731657</td>\n",
              "      <td>156.210012</td>\n",
              "      <td>116.945679</td>\n",
              "      <td>171.408876</td>\n",
              "      <td>74.167091</td>\n",
              "      <td>27.379918</td>\n",
              "      <td>46.787173</td>\n",
              "    </tr>\n",
              "    <tr>\n",
              "      <th>1</th>\n",
              "      <td>2011</td>\n",
              "      <td>534.187873</td>\n",
              "      <td>164.666096</td>\n",
              "      <td>121.002643</td>\n",
              "      <td>173.447412</td>\n",
              "      <td>75.071722</td>\n",
              "      <td>26.247553</td>\n",
              "      <td>48.824169</td>\n",
              "    </tr>\n",
              "    <tr>\n",
              "      <th>2</th>\n",
              "      <td>2012</td>\n",
              "      <td>546.333605</td>\n",
              "      <td>169.225246</td>\n",
              "      <td>123.533191</td>\n",
              "      <td>178.219785</td>\n",
              "      <td>75.355384</td>\n",
              "      <td>24.474109</td>\n",
              "      <td>50.881275</td>\n",
              "    </tr>\n",
              "    <tr>\n",
              "      <th>3</th>\n",
              "      <td>2013</td>\n",
              "      <td>554.177553</td>\n",
              "      <td>171.897851</td>\n",
              "      <td>125.031915</td>\n",
              "      <td>177.971089</td>\n",
              "      <td>79.276699</td>\n",
              "      <td>24.651921</td>\n",
              "      <td>54.624777</td>\n",
              "    </tr>\n",
              "    <tr>\n",
              "      <th>4</th>\n",
              "      <td>2014</td>\n",
              "      <td>563.331242</td>\n",
              "      <td>171.426576</td>\n",
              "      <td>126.990053</td>\n",
              "      <td>182.658624</td>\n",
              "      <td>82.25599</td>\n",
              "      <td>25.138315</td>\n",
              "      <td>57.117674</td>\n",
              "    </tr>\n",
              "    <tr>\n",
              "      <th>5</th>\n",
              "      <td>2015</td>\n",
              "      <td>568.558292</td>\n",
              "      <td>167.602751</td>\n",
              "      <td>129.644515</td>\n",
              "      <td>187.83561</td>\n",
              "      <td>83.475416</td>\n",
              "      <td>25.437528</td>\n",
              "      <td>58.037888</td>\n",
              "    </tr>\n",
              "    <tr>\n",
              "      <th>6</th>\n",
              "      <td>2016</td>\n",
              "      <td>564.580276</td>\n",
              "      <td>157.777584</td>\n",
              "      <td>130.876105</td>\n",
              "      <td>188.79854</td>\n",
              "      <td>87.128047</td>\n",
              "      <td>25.712197</td>\n",
              "      <td>61.41585</td>\n",
              "    </tr>\n",
              "    <tr>\n",
              "      <th>7</th>\n",
              "      <td>2017</td>\n",
              "      <td>578.245254</td>\n",
              "      <td>162.088377</td>\n",
              "      <td>136.850601</td>\n",
              "      <td>188.73706</td>\n",
              "      <td>90.569217</td>\n",
              "      <td>25.898281</td>\n",
              "      <td>64.670935</td>\n",
              "    </tr>\n",
              "    <tr>\n",
              "      <th>8</th>\n",
              "      <td>2018</td>\n",
              "      <td>600.728729</td>\n",
              "      <td>168.307735</td>\n",
              "      <td>144.439144</td>\n",
              "      <td>193.050893</td>\n",
              "      <td>94.930957</td>\n",
              "      <td>26.513244</td>\n",
              "      <td>68.417714</td>\n",
              "    </tr>\n",
              "    <tr>\n",
              "      <th>9</th>\n",
              "      <td>2019</td>\n",
              "      <td>611.508969</td>\n",
              "      <td>171.840424</td>\n",
              "      <td>149.401589</td>\n",
              "      <td>192.134558</td>\n",
              "      <td>98.132398</td>\n",
              "      <td>27.659891</td>\n",
              "      <td>70.472507</td>\n",
              "    </tr>\n",
              "  </tbody>\n",
              "</table>\n",
              "</div>\n",
              "      <button class=\"colab-df-convert\" onclick=\"convertToInteractive('df-4814081d-d5b8-493a-9668-bcd44b00c0c6')\"\n",
              "              title=\"Convert this dataframe to an interactive table.\"\n",
              "              style=\"display:none;\">\n",
              "        \n",
              "  <svg xmlns=\"http://www.w3.org/2000/svg\" height=\"24px\"viewBox=\"0 0 24 24\"\n",
              "       width=\"24px\">\n",
              "    <path d=\"M0 0h24v24H0V0z\" fill=\"none\"/>\n",
              "    <path d=\"M18.56 5.44l.94 2.06.94-2.06 2.06-.94-2.06-.94-.94-2.06-.94 2.06-2.06.94zm-11 1L8.5 8.5l.94-2.06 2.06-.94-2.06-.94L8.5 2.5l-.94 2.06-2.06.94zm10 10l.94 2.06.94-2.06 2.06-.94-2.06-.94-.94-2.06-.94 2.06-2.06.94z\"/><path d=\"M17.41 7.96l-1.37-1.37c-.4-.4-.92-.59-1.43-.59-.52 0-1.04.2-1.43.59L10.3 9.45l-7.72 7.72c-.78.78-.78 2.05 0 2.83L4 21.41c.39.39.9.59 1.41.59.51 0 1.02-.2 1.41-.59l7.78-7.78 2.81-2.81c.8-.78.8-2.07 0-2.86zM5.41 20L4 18.59l7.72-7.72 1.47 1.35L5.41 20z\"/>\n",
              "  </svg>\n",
              "      </button>\n",
              "      \n",
              "  <style>\n",
              "    .colab-df-container {\n",
              "      display:flex;\n",
              "      flex-wrap:wrap;\n",
              "      gap: 12px;\n",
              "    }\n",
              "\n",
              "    .colab-df-convert {\n",
              "      background-color: #E8F0FE;\n",
              "      border: none;\n",
              "      border-radius: 50%;\n",
              "      cursor: pointer;\n",
              "      display: none;\n",
              "      fill: #1967D2;\n",
              "      height: 32px;\n",
              "      padding: 0 0 0 0;\n",
              "      width: 32px;\n",
              "    }\n",
              "\n",
              "    .colab-df-convert:hover {\n",
              "      background-color: #E2EBFA;\n",
              "      box-shadow: 0px 1px 2px rgba(60, 64, 67, 0.3), 0px 1px 3px 1px rgba(60, 64, 67, 0.15);\n",
              "      fill: #174EA6;\n",
              "    }\n",
              "\n",
              "    [theme=dark] .colab-df-convert {\n",
              "      background-color: #3B4455;\n",
              "      fill: #D2E3FC;\n",
              "    }\n",
              "\n",
              "    [theme=dark] .colab-df-convert:hover {\n",
              "      background-color: #434B5C;\n",
              "      box-shadow: 0px 1px 3px 1px rgba(0, 0, 0, 0.15);\n",
              "      filter: drop-shadow(0px 1px 2px rgba(0, 0, 0, 0.3));\n",
              "      fill: #FFFFFF;\n",
              "    }\n",
              "  </style>\n",
              "\n",
              "      <script>\n",
              "        const buttonEl =\n",
              "          document.querySelector('#df-4814081d-d5b8-493a-9668-bcd44b00c0c6 button.colab-df-convert');\n",
              "        buttonEl.style.display =\n",
              "          google.colab.kernel.accessAllowed ? 'block' : 'none';\n",
              "\n",
              "        async function convertToInteractive(key) {\n",
              "          const element = document.querySelector('#df-4814081d-d5b8-493a-9668-bcd44b00c0c6');\n",
              "          const dataTable =\n",
              "            await google.colab.kernel.invokeFunction('convertToInteractive',\n",
              "                                                     [key], {});\n",
              "          if (!dataTable) return;\n",
              "\n",
              "          const docLinkHtml = 'Like what you see? Visit the ' +\n",
              "            '<a target=\"_blank\" href=https://colab.research.google.com/notebooks/data_table.ipynb>data table notebook</a>'\n",
              "            + ' to learn more about interactive tables.';\n",
              "          element.innerHTML = '';\n",
              "          dataTable['output_type'] = 'display_data';\n",
              "          await google.colab.output.renderOutput(dataTable, element);\n",
              "          const docLink = document.createElement('div');\n",
              "          docLink.innerHTML = docLinkHtml;\n",
              "          element.appendChild(docLink);\n",
              "        }\n",
              "      </script>\n",
              "    </div>\n",
              "  </div>\n",
              "  "
            ]
          },
          "metadata": {},
          "execution_count": 108
        }
      ]
    },
    {
      "cell_type": "code",
      "source": [
        "fig, ax = plt.subplots(1, figsize=(16, 8))\n",
        "\n",
        "plt.bar(df_TOTAL_ENERGY_PRODUCTION.index, df_TOTAL_ENERGY_PRODUCTION['Coal'], color = '#48868D', width =0.5)\n",
        "plt.bar(df_TOTAL_ENERGY_PRODUCTION.index, df_TOTAL_ENERGY_PRODUCTION['Natural gas'], bottom = df_TOTAL_ENERGY_PRODUCTION['Coal'], color = '#7C9247', width =0.5)\n",
        "\n",
        "plt.bar(df_TOTAL_ENERGY_PRODUCTION.index, df_TOTAL_ENERGY_PRODUCTION['Petroleum and other liquids'], color = '#B2B56B', width =0.5)\n",
        "plt.bar(df_TOTAL_ENERGY_PRODUCTION.index, df_TOTAL_ENERGY_PRODUCTION['Renewables, and other'], bottom = df_TOTAL_ENERGY_PRODUCTION['Petroleum and other liquids'], color = '#93AE7A', width =0.5)# x and y limits\n",
        "\n",
        "plt.bar(df_TOTAL_ENERGY_PRODUCTION.index, df_TOTAL_ENERGY_PRODUCTION['Nuclear'], color = '#F0E7AD', width =0.5)\n",
        "\n",
        "ax.spines['right'].set_visible(False)\n",
        "ax.spines['left'].set_visible(False)\n",
        "ax.spines['top'].set_visible(False)\n",
        "ax.spines['bottom'].set_visible(False)#grid\n",
        "ax.set_axisbelow(True)\n",
        "ax.yaxis.grid(color='gray', linestyle='dashed', alpha=0.7)\n",
        "plt.xticks(df_TOTAL_ENERGY_PRODUCTION.index , labels = df_TOTAL_ENERGY_PRODUCTION['Year'])\n",
        "legend_label = ['Carbón', 'Gas natural', 'Petróleo y otros líquidos', 'Fuentes renovables y otros', 'Nuclear']\n",
        "plt.legend(legend_label, ncol = 4, bbox_to_anchor=([1, 1.05, 0, 0]), frameon = False)\n",
        "plt.title('Producción de energía a nivel mundial, 2010-2019', loc='left')\n",
        "plt.xlabel('Año')\n",
        "plt.ylabel('Quads')\n",
        "plt.show()"
      ],
      "metadata": {
        "colab": {
          "base_uri": "https://localhost:8080/",
          "height": 514
        },
        "id": "cfaXwnd_Dhe7",
        "outputId": "7a3793cb-8d11-4de9-e3ac-495990aa2729"
      },
      "execution_count": 109,
      "outputs": [
        {
          "output_type": "display_data",
          "data": {
            "text/plain": [
              "<Figure size 1152x576 with 1 Axes>"
            ],
            "image/png": "[encoded data removed]"
          },
          "metadata": {
            "needs_background": "light"
          }
        }
      ]
    },
    {
      "cell_type": "code",
      "source": [
        ""
      ],
      "metadata": {
        "id": "RyHS9Ie2ylTk"
      },
      "execution_count": null,
      "outputs": []
    },
    {
      "cell_type": "markdown",
      "source": [
        "Vemos como a nivel mundial la producción de energía es variado entre petorleos y otros líquidos, pero siendo CR un referente en la producción con energia de fuentes renovables."
      ],
      "metadata": {
        "id": "DZKCA39ElSJ7"
      }
    },
    {
      "cell_type": "markdown",
      "source": [
        "<h2>Conclusiones</h2>\n",
        "\n",
        "*   Costa Rica, contrario a la tendencia mundial, produjo casi la totalidad de su energía a partir de fuentes sostenibles.\n",
        "* Costa Rica aumento su producción de energía.\n",
        "*   Al igual que pasa a nivel global, Costa Rica presento una tendencia al alza en el consumo de energía en todos sus sectores. \n",
        "*   La energía geotérmica fue la fuente de producción más importante para Costa Rica, no obstante, otras fuentes como la eólica y la solar presentaron un fuerte incremento en su relevancia.\n",
        "*   Los hidrocarburos formaron la mayor fuente de energía utilizada en Costa Rica.\n",
        "*  Acorde con la tendencia global, el sector transporte presento el sector más relevante en cuanto a consumo de energía, con una tendencia al alza.\n",
        "* La mayor parte de la energía consumida en Costa Rica fue importada.\n",
        "* Las importaciones de energía en Costa Rica presentaron una tendencia al alza.\n",
        "* Dentro del sector transporte, el terrestre fue el que más energía empleó en Costa Rica.\n",
        "* Al igual que pasa en el resto del mundo, en Costa Rica el sector de consumo más grande dentro de la categoría residencial fue el urbano.\n",
        "\n",
        "Como se puede observar, Costa Rica ha resaltado a nivel mundial por la proporción de energías que produce. No obstante, en el consumo siguió las mismas tendencias que el resto del mundo, haciendo un fuerte uso de hidrocarburos. Lo anterior presenta una serie de problemáticas para este país, las cuales, con el fin de tener un desarrollo sostenible, deben ser con vehemencia y desde los diferentes sectores de la sociedad"
      ],
      "metadata": {
        "id": "c5cXXWYLa3Ra"
      }
    }
  ]
}